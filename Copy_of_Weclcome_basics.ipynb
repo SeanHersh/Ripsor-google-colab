{
  "nbformat": 4,
  "nbformat_minor": 0,
  "metadata": {
    "colab": {
      "provenance": [],
      "include_colab_link": true
    },
    "kernelspec": {
      "name": "ir",
      "display_name": "R"
    },
    "language_info": {
      "name": "R"
    }
  },
  "cells": [
    {
      "cell_type": "markdown",
      "metadata": {
        "id": "view-in-github",
        "colab_type": "text"
      },
      "source": [
        "<a href=\"https://colab.research.google.com/github/SeanHersh/Ripsor-google-colab/blob/main/Copy_of_Weclcome_basics.ipynb\" target=\"_parent\"><img src=\"https://colab.research.google.com/assets/colab-badge.svg\" alt=\"Open In Colab\"/></a>"
      ]
    },
    {
      "cell_type": "code",
      "source": [
        "%%writefile hello.cpp\n",
        "\n",
        "#include <iostream>\n",
        "\n",
        "int main() {\n",
        "    std::cout << \"Hello from C++!\" << std::endl;\n",
        "    return 0;\n",
        "}"
      ],
      "metadata": {
        "colab": {
          "base_uri": "https://localhost:8080/"
        },
        "id": "qx4RRCyyMjrk",
        "outputId": "901e8474-6e3a-458b-fc67-6b8bb209233a"
      },
      "execution_count": null,
      "outputs": [
        {
          "output_type": "stream",
          "name": "stdout",
          "text": [
            "Overwriting hello.cpp\n"
          ]
        }
      ]
    },
    {
      "cell_type": "code",
      "source": [
        "!g++ hello.cpp -o hello\n",
        "!./hello\n",
        "\n"
      ],
      "metadata": {
        "colab": {
          "base_uri": "https://localhost:8080/"
        },
        "id": "-78AScWMNllm",
        "outputId": "253c810b-77e9-4d37-c77c-85d5aa96fbcb"
      },
      "execution_count": null,
      "outputs": [
        {
          "output_type": "stream",
          "name": "stdout",
          "text": [
            "Hello from C++!\n"
          ]
        }
      ]
    },
    {
      "cell_type": "markdown",
      "source": [
        "this is an example of how to run c++ on google colab, if you want to run R code, click on runtime and then click \"change runtime type\" then click form python 3 to R\n"
      ],
      "metadata": {
        "id": "P6c-h9yPNqOR"
      }
    },
    {
      "cell_type": "markdown",
      "source": [
        " I printed it this way to show its the R format"
      ],
      "metadata": {
        "id": "Mh6joayFOvEY"
      }
    },
    {
      "cell_type": "code",
      "source": [
        "x <- \"Hello World\"\n",
        "print(x)\n"
      ],
      "metadata": {
        "colab": {
          "base_uri": "https://localhost:8080/"
        },
        "id": "ootqaIXIOPKt",
        "outputId": "d036800b-b296-4249-ebc7-81176ffe273d"
      },
      "execution_count": null,
      "outputs": [
        {
          "output_type": "stream",
          "name": "stdout",
          "text": [
            "[1] \"Hello World\"\n"
          ]
        }
      ]
    },
    {
      "cell_type": "markdown",
      "source": [],
      "metadata": {
        "id": "IGVV7e4nMAI9"
      }
    }
  ]
}